{
 "cells": [
  {
   "cell_type": "markdown",
   "metadata": {},
   "source": [
    "# Digital Signal Processing\n",
    "## Convolution and Correlation\n",
    "\n",
    "### MsCV - ViBOT - MAIA"
   ]
  },
  {
   "cell_type": "code",
   "execution_count": 1,
   "metadata": {
    "collapsed": false
   },
   "outputs": [
    {
     "name": "stdout",
     "output_type": "stream",
     "text": [
      "Pretty printing has been turned OFF\n"
     ]
    }
   ],
   "source": [
    "%matplotlib inline\n",
    "%pprint off\n",
    "\n",
    "# To make some nice plot\n",
    "import matplotlib.pyplot as plt\n",
    "# To play with arrays\n",
    "import numpy as np\n",
    "from skimage import io\n",
    "from skimage import img_as_float\n",
    "from matplotlib import cm"
   ]
  },
  {
   "cell_type": "markdown",
   "metadata": {
    "collapsed": true
   },
   "source": [
    "## Exercise 1- 1D Convolution\n",
    "\n",
    "**1.1** Defining a signal $x$ and an impulse response $h$ as parameters, write a program `conv_fn` to compute the convolution product $y=h*x$. Do not use the python or matlab function and just consider zero padding to solve the border problem.\n",
    "\n",
    "**1.2** Test your function, while using the following signal ($x[n] = \\{\\underline{1},2,3,4\\}$) and following filters, ($\\delta[k]$, $H[k]$, $e^{k}$, and $h = \\{-1, 1\\}$), respectively.\n",
    "\n",
    "**1.3** Consider the previous input signal, write it's extended version while considering `symmetry`, `periodic` and `constant values` padding and $h = H[k-5]$\n",
    "\n"
   ]
  },
  {
   "cell_type": "code",
   "execution_count": 41,
   "metadata": {
    "collapsed": false
   },
   "outputs": [],
   "source": [
    "def conv_fn(x, h):\n",
    "\n",
    "    end = len(x) + 2*len(h)\n",
    "\n",
    "    X_pad = np.zeros(end)\n",
    "    X_pad[0:len(x)] = x[0:len(x)]\n",
    "    X_pad[len(x):end] = 0\n",
    "    y = np.zeros((end, ))\n",
    "    \n",
    "    print X_pad\n",
    "    print h\n",
    "\n",
    "    #x[len(x):len(x)+len(h)] = 0\n",
    "    #x[-1:-1-len(h)] = 0\n",
    "    \n",
    "    for i in range(0, len(X_pad)):\n",
    "        for j in range (0, len(h)):\n",
    "           y[i] = y[i] + X_pad[i-j]* h[j]\n",
    "    print y\n",
    "    return y"
   ]
  },
  {
   "cell_type": "code",
   "execution_count": 51,
   "metadata": {
    "collapsed": false
   },
   "outputs": [
    {
     "name": "stdout",
     "output_type": "stream",
     "text": [
      "[ 1.  2.  3.  4.  0.  0.  0.  0.  0.  0.  0.  0.  0.  0.  0.  0.  0.  0.\n",
      "  0.  0.  0.  0.  0.  0.  0.  0.  0.  0.  0.  0.  0.  0.  0.  0.  0.  0.\n",
      "  0.  0.  0.  0.  0.  0.  0.  0.]\n",
      "[  1.00000000e+00   2.71828000e+00   7.38904616e+00   2.00854964e+01\n",
      "   5.45980031e+01   1.48412660e+02   4.03427165e+02   1.09662799e+03\n",
      "   2.98094195e+03   8.10303487e+03   2.20263176e+04   5.98736987e+04\n",
      "   1.62753478e+05   4.42409523e+05   1.20259296e+06   3.26898439e+06\n",
      "   8.88601488e+06   2.41546765e+07   6.56591741e+07   1.78480020e+08]\n",
      "[  1.00000000e+00   4.71828000e+00   1.58256062e+01   4.70184287e+01\n",
      "   1.27809254e+02   3.47421340e+02   9.44388480e+02   2.56711232e+03\n",
      "   6.97813007e+03   1.89685114e+04   5.15617252e+04   1.40159206e+05\n",
      "   3.80991967e+05   1.03564285e+06   2.81516723e+06   7.65241279e+06\n",
      "   2.08014006e+07   5.65440313e+07   1.53702509e+08   4.17806457e+08\n",
      "   6.50556268e+08   7.98076756e+08   7.13920080e+08   0.00000000e+00\n",
      "   0.00000000e+00   0.00000000e+00   0.00000000e+00   0.00000000e+00\n",
      "   0.00000000e+00   0.00000000e+00   0.00000000e+00   0.00000000e+00\n",
      "   0.00000000e+00   0.00000000e+00   0.00000000e+00   0.00000000e+00\n",
      "   0.00000000e+00   0.00000000e+00   0.00000000e+00   0.00000000e+00\n",
      "   0.00000000e+00   0.00000000e+00   0.00000000e+00   0.00000000e+00]\n",
      "[  1.00000000e+00   4.71828000e+00   1.58256062e+01   4.70184287e+01\n",
      "   1.27809254e+02   3.47421340e+02   9.44388480e+02   2.56711232e+03\n",
      "   6.97813007e+03   1.89685114e+04   5.15617252e+04   1.40159206e+05\n",
      "   3.80991967e+05   1.03564285e+06   2.81516723e+06   7.65241279e+06\n",
      "   2.08014006e+07   5.65440313e+07   1.53702509e+08   4.17806457e+08\n",
      "   6.50556268e+08   7.98076756e+08   7.13920080e+08]\n"
     ]
    }
   ],
   "source": [
    "def dirac(n=0, N=20):\n",
    "    # Check that the parameter are valid\n",
    "    if n > N - 1:\n",
    "        raise ValueError('n should be inferior to N-1')\n",
    "    \n",
    "    # Create the array\n",
    "    s = np.zeros((N, ))\n",
    "    # Place the dirac\n",
    "    s[n] = 1\n",
    "    \n",
    "    return s\n",
    "\n",
    "def step(n=0, N=20):\n",
    "    # Check that the parameter are valid\n",
    "    if n > N - 1:\n",
    "        raise ValueError('n should be inferior to N-1')\n",
    "    \n",
    "    # Create the array\n",
    "    s = np.zeros((N, ))\n",
    "    # Create the ramp\n",
    "    for idx_s in np.arange(n, N):\n",
    "        s[idx_s] = 1\n",
    "    \n",
    "    return s\n",
    "\n",
    "def exp(n=0, N=20):\n",
    "    # Check that the parameter are valid\n",
    "    if n > N - 1:\n",
    "        raise ValueError('n should be inferior to N-1')\n",
    "    \n",
    "    # Create the array\n",
    "    s = np.zeros((N, ))\n",
    "    e = 2.71828\n",
    "    # Create the ramp\n",
    "    for incr, idx_s in enumerate(np.arange(n, N)):\n",
    "        s[idx_s] = e ** incr\n",
    "    \n",
    "    return s\n",
    "\n",
    "\n",
    "\n",
    "x = np.array([1, 2, 3, 4])\n",
    "#h = np.array([-1, 1])\n",
    "h = exp(0)\n",
    "y = conv_fn(x, h)\n",
    "print np.convolve(x, h)"
   ]
  },
  {
   "cell_type": "markdown",
   "metadata": {
    "collapsed": false
   },
   "source": [
    "## Exercise 2- 2D Convolution\n",
    "\n",
    "**2.1** Define a 2D convolution function (Only consider zero-padding the image)\n",
    "\n",
    "**2.2** Using your function, smooth the `lena` image with the following Gaussian kernel:\n",
    "$$ K = \\frac{1.}{256}\\begin{bmatrix} 1 & 4 & 6 & 4 & 1 \\\\ 4 & 16 & 24 & 16 & 4 \\\\ 6 & 24 & 36 & 24 & 6 \\\\ 4 & 16 & 24 & 16 & 4 \\\\ 1 & 4 & 6 & 4 & 1 \\end{bmatrix}$$\n",
    "\n",
    "**2.3** Apply sobel filtering using convolution\n"
   ]
  },
  {
   "cell_type": "code",
   "execution_count": 10,
   "metadata": {
    "collapsed": false
   },
   "outputs": [],
   "source": []
  },
  {
   "cell_type": "code",
   "execution_count": 12,
   "metadata": {
    "collapsed": false
   },
   "outputs": [],
   "source": []
  },
  {
   "cell_type": "code",
   "execution_count": null,
   "metadata": {
    "collapsed": false
   },
   "outputs": [],
   "source": []
  },
  {
   "cell_type": "markdown",
   "metadata": {
    "collapsed": true
   },
   "source": [
    "## Exercise 3 - Character recognition using cross-correlation\n",
    "\n",
    "**3.1** load `a.png` and `text.png` images and binarized them using [`threshold_otsu`](http://scikit-image.org/docs/dev/api/skimage.filters.html?highlight=filters#skimage.filters.threshold_otsu)\n",
    "\n",
    "**3.2** Use [`signal.correlate2d`](https://docs.scipy.org/doc/scipy-0.18.1/reference/generated/scipy.signal.correlate2d.html#scipy.signal.correlate2d) from `scipy` to correlate your binarized images.\n",
    "**Note, signal correspond to the bright pixels within and image (invert your masks)**\n",
    "\n",
    "**3.3** Find the first 10 characters recognized as `a`."
   ]
  },
  {
   "cell_type": "code",
   "execution_count": null,
   "metadata": {
    "collapsed": false
   },
   "outputs": [],
   "source": []
  },
  {
   "cell_type": "code",
   "execution_count": 21,
   "metadata": {
    "collapsed": false
   },
   "outputs": [],
   "source": []
  },
  {
   "cell_type": "code",
   "execution_count": null,
   "metadata": {
    "collapsed": false
   },
   "outputs": [],
   "source": []
  }
 ],
 "metadata": {
  "anaconda-cloud": {},
  "kernelspec": {
   "display_name": "Python 2",
   "language": "python",
   "name": "python2"
  },
  "language_info": {
   "codemirror_mode": {
    "name": "ipython",
    "version": 2
   },
   "file_extension": ".py",
   "mimetype": "text/x-python",
   "name": "python",
   "nbconvert_exporter": "python",
   "pygments_lexer": "ipython2",
   "version": "2.7.12"
  }
 },
 "nbformat": 4,
 "nbformat_minor": 1
}
